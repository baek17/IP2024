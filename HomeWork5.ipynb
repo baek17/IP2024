{
 "cells": [
  {
   "cell_type": "markdown",
   "metadata": {},
   "source": [
    "## HomeWork5\n",
    "#### 20221141 백채림\n",
    "유튜브 링크 https://youtu.be/QR3q5WYmrNs"
   ]
  },
  {
   "cell_type": "code",
   "execution_count": 13,
   "metadata": {},
   "outputs": [],
   "source": [
    "import numpy as np\n",
    "import cv2\n",
    "\n",
    "img2 = cv2.imread(\"monitoring_720p.png\", cv2.IMREAD_GRAYSCALE)\n",
    "\n",
    "orb = cv2.ORB_create()\n",
    "bf = cv2.BFMatcher(cv2.NORM_HAMMING, crossCheck=True)\n",
    "cap = cv2.VideoCapture(\"monitoring.avi\")\n",
    "\n",
    "while True:\n",
    "    ret, img1 = cap.read()\n",
    "    \n",
    "    if not ret:\n",
    "        print(\"End of video or cannot read the frame.\")\n",
    "        break\n",
    "    \n",
    "    img1_gray = cv2.cvtColor(img1, cv2.COLOR_BGR2GRAY)\n",
    "    \n",
    "    kp1, des1 = orb.detectAndCompute(img1_gray, None)\n",
    "    kp2, des2 = orb.detectAndCompute(img2, None)\n",
    "    \n",
    "    matches = bf.match(des1, des2)\n",
    "    matches = sorted(matches, key=lambda x: x.distance)\n",
    "    matching_result = cv2.drawMatches(img1, kp1, img2, kp2, matches[:50], None, flags=2)\n",
    "    \n",
    "    cv2.imshow(\"Video Frame\", img1)\n",
    "    cv2.imshow(\"Image\", img2)\n",
    "    cv2.imshow(\"Matching result\", matching_result)\n",
    "\n",
    "    key = cv2.waitKey(10)\n",
    "    if key == 27:\n",
    "        break\n",
    "\n",
    "cap.release()\n",
    "cv2.destroyAllWindows()\n"
   ]
  },
  {
   "cell_type": "code",
   "execution_count": null,
   "metadata": {},
   "outputs": [],
   "source": []
  },
  {
   "cell_type": "code",
   "execution_count": null,
   "metadata": {},
   "outputs": [],
   "source": []
  },
  {
   "cell_type": "code",
   "execution_count": 1,
   "metadata": {},
   "outputs": [],
   "source": [
    "import numpy as np\n",
    "import cv2\n",
    "import matplotlib.pyplot as plt"
   ]
  },
  {
   "cell_type": "code",
   "execution_count": 5,
   "metadata": {},
   "outputs": [],
   "source": [
    "img1 = cv2.imread(\"the_book_thief.jpg\", cv2.IMREAD_GRAYSCALE)\n",
    "img2 = cv2.imread(\"me_holding_book.jpg\", cv2.IMREAD_GRAYSCALE)"
   ]
  },
  {
   "cell_type": "code",
   "execution_count": 6,
   "metadata": {},
   "outputs": [],
   "source": [
    "# ORB Detector\n",
    "orb = cv2.ORB_create()\n",
    "kp1, des1 = orb.detectAndCompute(img1, None)\n",
    "kp2, des2 = orb.detectAndCompute(img2, None)"
   ]
  },
  {
   "cell_type": "code",
   "execution_count": null,
   "metadata": {},
   "outputs": [],
   "source": [
    "bf = cv2.BFMatcher(cv2.NORM_HAMMING, crossCheck = True)\n",
    "matches = bf.match(des1, des2)\n",
    "matches = sorted(matches, key = lambda x:x.distance)\n",
    "\n",
    "matching_result = cv2.drawMatches(img1, kp1, img2, kp2, matches[:50], None, flags=2)"
   ]
  },
  {
   "cell_type": "code",
   "execution_count": null,
   "metadata": {},
   "outputs": [],
   "source": [
    "cv2.imshow(\"Img1\", img1)\n",
    "cv2.imshow(\"Img2\", img2)\n",
    "cv2.imshow(\"Matching result\", matching_result)\n",
    "cv2.waitKey(0)\n",
    "cv2.destroyAllWindows()"
   ]
  },
  {
   "cell_type": "code",
   "execution_count": null,
   "metadata": {},
   "outputs": [],
   "source": []
  }
 ],
 "metadata": {
  "kernelspec": {
   "display_name": "IP2024",
   "language": "python",
   "name": "python3"
  },
  "language_info": {
   "codemirror_mode": {
    "name": "ipython",
    "version": 3
   },
   "file_extension": ".py",
   "mimetype": "text/x-python",
   "name": "python",
   "nbconvert_exporter": "python",
   "pygments_lexer": "ipython3",
   "version": "3.8.19"
  }
 },
 "nbformat": 4,
 "nbformat_minor": 2
}
